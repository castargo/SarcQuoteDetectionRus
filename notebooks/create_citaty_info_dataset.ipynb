{
 "cells": [
  {
   "cell_type": "markdown",
   "metadata": {},
   "source": [
    "# Create dataset for collected data"
   ]
  },
  {
   "cell_type": "code",
   "execution_count": 1,
   "metadata": {},
   "outputs": [],
   "source": [
    "import json\n",
    "import os\n",
    "import pickle\n",
    "import re\n",
    "\n",
    "import pandas as pd"
   ]
  },
  {
   "cell_type": "code",
   "execution_count": 2,
   "metadata": {},
   "outputs": [],
   "source": [
    "ci_path = '../results/citaty_info/qbq'\n",
    "# ci_path = '../results/citaty_info'"
   ]
  },
  {
   "cell_type": "markdown",
   "metadata": {},
   "source": [
    "### Read quotes to list"
   ]
  },
  {
   "cell_type": "code",
   "execution_count": 3,
   "metadata": {},
   "outputs": [],
   "source": [
    "quotes = []\n",
    "\n",
    "for file in os.listdir(ci_path):\n",
    "    if file.endswith(\".txt\"):\n",
    "        with open(os.path.join(ci_path, file), 'r') as f:\n",
    "            lines = f.readlines()\n",
    "            for i, line in enumerate(lines):\n",
    "                quote = json.loads(line)\n",
    "                quotes.append(quote)"
   ]
  },
  {
   "cell_type": "markdown",
   "metadata": {},
   "source": [
    "### Create dataset"
   ]
  },
  {
   "cell_type": "code",
   "execution_count": 4,
   "metadata": {},
   "outputs": [],
   "source": [
    "df = pd.DataFrame(quotes)"
   ]
  },
  {
   "cell_type": "code",
   "execution_count": 5,
   "metadata": {},
   "outputs": [
    {
     "data": {
      "text/plain": [
       "(438085, 10)"
      ]
     },
     "execution_count": 5,
     "metadata": {},
     "output_type": "execute_result"
    }
   ],
   "source": [
    "df.shape"
   ]
  },
  {
   "cell_type": "code",
   "execution_count": 6,
   "metadata": {},
   "outputs": [
    {
     "data": {
      "text/html": [
       "<div>\n",
       "<style scoped>\n",
       "    .dataframe tbody tr th:only-of-type {\n",
       "        vertical-align: middle;\n",
       "    }\n",
       "\n",
       "    .dataframe tbody tr th {\n",
       "        vertical-align: top;\n",
       "    }\n",
       "\n",
       "    .dataframe thead th {\n",
       "        text-align: right;\n",
       "    }\n",
       "</style>\n",
       "<table border=\"1\" class=\"dataframe\">\n",
       "  <thead>\n",
       "    <tr style=\"text-align: right;\">\n",
       "      <th></th>\n",
       "      <th>link</th>\n",
       "      <th>text</th>\n",
       "      <th>references</th>\n",
       "      <th>tags</th>\n",
       "      <th>rating</th>\n",
       "      <th>rating_positive</th>\n",
       "      <th>rating_negative</th>\n",
       "      <th>submitted_by</th>\n",
       "      <th>submitted_date</th>\n",
       "      <th>comments_count</th>\n",
       "    </tr>\n",
       "  </thead>\n",
       "  <tbody>\n",
       "    <tr>\n",
       "      <th>0</th>\n",
       "      <td>https://citaty.info/quote/130001</td>\n",
       "      <td>— В моём кабинете всё ещё идет дождь . Уже два...</td>\n",
       "      <td>{'Цитата из фильма': 'Гарри Поттер и Дары смер...</td>\n",
       "      <td>[смешные цитаты]</td>\n",
       "      <td>124</td>\n",
       "      <td>129</td>\n",
       "      <td>5</td>\n",
       "      <td>JustRevenge</td>\n",
       "      <td>05.05.11 в 20:16</td>\n",
       "      <td>5</td>\n",
       "    </tr>\n",
       "    <tr>\n",
       "      <th>1</th>\n",
       "      <td>https://citaty.info/quote/130002</td>\n",
       "      <td>Джульетта была моего возраста: она успела влюб...</td>\n",
       "      <td>{'Цитата из сериала': 'Моя прекрасная няня', '...</td>\n",
       "      <td>[секс]</td>\n",
       "      <td>29</td>\n",
       "      <td>38</td>\n",
       "      <td>9</td>\n",
       "      <td>дыши со мной</td>\n",
       "      <td>05.05.11 в 20:16</td>\n",
       "      <td>0</td>\n",
       "    </tr>\n",
       "    <tr>\n",
       "      <th>2</th>\n",
       "      <td>https://citaty.info/quote/130003</td>\n",
       "      <td>— Боже мой, что же мне делать! Моя жена совсем...</td>\n",
       "      <td>{'Цитата из фильма': 'Гарри Поттер и Дары смер...</td>\n",
       "      <td>[смешные цитаты]</td>\n",
       "      <td>172</td>\n",
       "      <td>181</td>\n",
       "      <td>9</td>\n",
       "      <td>JustRevenge</td>\n",
       "      <td>05.05.11 в 20:18</td>\n",
       "      <td>8</td>\n",
       "    </tr>\n",
       "    <tr>\n",
       "      <th>3</th>\n",
       "      <td>https://citaty.info/quote/130004</td>\n",
       "      <td>Мутацию в твоем случае корректнее было бы назы...</td>\n",
       "      <td>{}</td>\n",
       "      <td>[Автор неизвестен, мутация]</td>\n",
       "      <td>4</td>\n",
       "      <td>5</td>\n",
       "      <td>1</td>\n",
       "      <td>Varela</td>\n",
       "      <td>05.05.11 в 20:34</td>\n",
       "      <td>0</td>\n",
       "    </tr>\n",
       "    <tr>\n",
       "      <th>4</th>\n",
       "      <td>https://citaty.info/quote/130005</td>\n",
       "      <td>Боже, ну зачем тебя я встретил? Лучше бы я шел...</td>\n",
       "      <td>{'Исполнитель': 'R.Mike', 'Песня': 'Безумная'}</td>\n",
       "      <td>[любовь]</td>\n",
       "      <td>3</td>\n",
       "      <td>5</td>\n",
       "      <td>2</td>\n",
       "      <td>Lerya Nolwenn.</td>\n",
       "      <td>05.05.11 в 20:34</td>\n",
       "      <td>0</td>\n",
       "    </tr>\n",
       "  </tbody>\n",
       "</table>\n",
       "</div>"
      ],
      "text/plain": [
       "                               link  \\\n",
       "0  https://citaty.info/quote/130001   \n",
       "1  https://citaty.info/quote/130002   \n",
       "2  https://citaty.info/quote/130003   \n",
       "3  https://citaty.info/quote/130004   \n",
       "4  https://citaty.info/quote/130005   \n",
       "\n",
       "                                                text  \\\n",
       "0  — В моём кабинете всё ещё идет дождь . Уже два...   \n",
       "1  Джульетта была моего возраста: она успела влюб...   \n",
       "2  — Боже мой, что же мне делать! Моя жена совсем...   \n",
       "3  Мутацию в твоем случае корректнее было бы назы...   \n",
       "4  Боже, ну зачем тебя я встретил? Лучше бы я шел...   \n",
       "\n",
       "                                          references  \\\n",
       "0  {'Цитата из фильма': 'Гарри Поттер и Дары смер...   \n",
       "1  {'Цитата из сериала': 'Моя прекрасная няня', '...   \n",
       "2  {'Цитата из фильма': 'Гарри Поттер и Дары смер...   \n",
       "3                                                 {}   \n",
       "4     {'Исполнитель': 'R.Mike', 'Песня': 'Безумная'}   \n",
       "\n",
       "                          tags rating rating_positive rating_negative  \\\n",
       "0             [смешные цитаты]    124             129               5   \n",
       "1                       [секс]     29              38               9   \n",
       "2             [смешные цитаты]    172             181               9   \n",
       "3  [Автор неизвестен, мутация]      4               5               1   \n",
       "4                     [любовь]      3               5               2   \n",
       "\n",
       "     submitted_by     submitted_date  comments_count  \n",
       "0     JustRevenge   05.05.11 в 20:16               5  \n",
       "1    дыши со мной   05.05.11 в 20:16               0  \n",
       "2     JustRevenge   05.05.11 в 20:18               8  \n",
       "3          Varela   05.05.11 в 20:34               0  \n",
       "4  Lerya Nolwenn.   05.05.11 в 20:34               0  "
      ]
     },
     "execution_count": 6,
     "metadata": {},
     "output_type": "execute_result"
    }
   ],
   "source": [
    "df.head()"
   ]
  },
  {
   "cell_type": "markdown",
   "metadata": {},
   "source": [
    "### Normalize id"
   ]
  },
  {
   "cell_type": "code",
   "execution_count": 7,
   "metadata": {},
   "outputs": [],
   "source": [
    "def get_quote_id(link):\n",
    "    return link.split('/')[-1]"
   ]
  },
  {
   "cell_type": "code",
   "execution_count": 8,
   "metadata": {},
   "outputs": [],
   "source": [
    "df['link_id'] = df['link'].apply(get_quote_id)\n",
    "df.link_id = df.link_id.astype('int32')\n",
    "df = df.drop_duplicates(subset=['link_id'])"
   ]
  },
  {
   "cell_type": "code",
   "execution_count": 9,
   "metadata": {},
   "outputs": [],
   "source": [
    "df.set_index('link_id', inplace=True)\n",
    "df.drop(['link', ], axis=1, inplace=True);"
   ]
  },
  {
   "cell_type": "code",
   "execution_count": 10,
   "metadata": {},
   "outputs": [],
   "source": [
    "df.sort_index(inplace=True);"
   ]
  },
  {
   "cell_type": "markdown",
   "metadata": {},
   "source": [
    "### Check if data are correct\n",
    "\n",
    "Should be empty"
   ]
  },
  {
   "cell_type": "code",
   "execution_count": 11,
   "metadata": {},
   "outputs": [],
   "source": [
    "b = df.index.values[0]\n",
    "for i in df.index.values[1:]:\n",
    "    if i-b > 100:\n",
    "        print(b, i)\n",
    "    b = i"
   ]
  },
  {
   "cell_type": "markdown",
   "metadata": {},
   "source": [
    "### Check for references keys"
   ]
  },
  {
   "cell_type": "code",
   "execution_count": 12,
   "metadata": {},
   "outputs": [
    {
     "data": {
      "text/plain": [
       "{'Автор цитаты',\n",
       " 'Исполнитель',\n",
       " 'Песня',\n",
       " 'Самиздат',\n",
       " 'Цитата из аниме',\n",
       " 'Цитата из игры',\n",
       " 'Цитата из книги',\n",
       " 'Цитата из комикса',\n",
       " 'Цитата из мультфильма',\n",
       " 'Цитата из сериала',\n",
       " 'Цитата из спектакля',\n",
       " 'Цитата из телешоу',\n",
       " 'Цитата из фильма',\n",
       " 'Цитируемый персонаж'}"
      ]
     },
     "execution_count": 12,
     "metadata": {},
     "output_type": "execute_result"
    }
   ],
   "source": [
    "keys = []\n",
    "\n",
    "for k in df.references:\n",
    "    keys += k.keys()\n",
    "    \n",
    "set(keys)"
   ]
  },
  {
   "cell_type": "code",
   "execution_count": 13,
   "metadata": {},
   "outputs": [],
   "source": [
    "new_keys = {\n",
    "    'Автор цитаты': 'author',\n",
    "    'Исполнитель': 'performer',\n",
    "    'Песня': 'song',\n",
    "    'Самиздат': 'samizdat',\n",
    "    'Цитата из аниме': 'anime',\n",
    "    'Цитата из игры': 'game',\n",
    "    'Цитата из книги': 'book',\n",
    "    'Цитата из комикса': 'comic',\n",
    "    'Цитата из мультфильма': 'cartoon',\n",
    "    'Цитата из сериала': 'serial',\n",
    "    'Цитата из спектакля': 'play',\n",
    "    'Цитата из телешоу': 'tv',\n",
    "    'Цитата из фильма': 'movie',\n",
    "    'Цитируемый персонаж': 'character'\n",
    "}"
   ]
  },
  {
   "cell_type": "code",
   "execution_count": 14,
   "metadata": {},
   "outputs": [],
   "source": [
    "for val in new_keys.values():\n",
    "    df[val] = None"
   ]
  },
  {
   "cell_type": "code",
   "execution_count": 15,
   "metadata": {},
   "outputs": [],
   "source": [
    "for ind, row in df.iterrows():\n",
    "    refs = row['references']\n",
    "    for key in refs.keys():\n",
    "        df.at[ind, new_keys[key]] = refs[key]"
   ]
  },
  {
   "cell_type": "code",
   "execution_count": 16,
   "metadata": {},
   "outputs": [],
   "source": [
    "df.drop(['references', ], axis=1, inplace=True);"
   ]
  },
  {
   "cell_type": "markdown",
   "metadata": {},
   "source": [
    "### Fix rating data"
   ]
  },
  {
   "cell_type": "code",
   "execution_count": 17,
   "metadata": {},
   "outputs": [],
   "source": [
    "df.rating = pd.to_numeric(df.rating, errors='coerce')\n",
    "df.rating.fillna(0, inplace=True);\n",
    "df.rating = df.rating.astype('int32')"
   ]
  },
  {
   "cell_type": "code",
   "execution_count": 18,
   "metadata": {},
   "outputs": [],
   "source": [
    "df.rating_positive = pd.to_numeric(df.rating_positive, errors='coerce')\n",
    "df.rating_positive.fillna(0, inplace=True);\n",
    "df.rating_positive = df.rating_positive.astype('int32')"
   ]
  },
  {
   "cell_type": "code",
   "execution_count": 19,
   "metadata": {},
   "outputs": [],
   "source": [
    "df.rating_negative = pd.to_numeric(df.rating_negative, errors='coerce')\n",
    "df.rating_negative.fillna(0, inplace=True);\n",
    "df.rating_negative = df.rating_negative.astype('int32')"
   ]
  },
  {
   "cell_type": "code",
   "execution_count": 20,
   "metadata": {},
   "outputs": [],
   "source": [
    "for ind, row in df.iterrows():\n",
    "    if (row['rating'] and row['rating_positive'] \n",
    "        and not row['rating_negative']):\n",
    "        df.at[ind, 'rating_negative'] = row['rating_positive'] - row['rating']"
   ]
  },
  {
   "cell_type": "markdown",
   "metadata": {},
   "source": [
    "### Fix submitted_date"
   ]
  },
  {
   "cell_type": "code",
   "execution_count": 21,
   "metadata": {},
   "outputs": [],
   "source": [
    "def parse_dtime(dtime_str):\n",
    "    return \"\".join(filter(lambda x: re.match(r'[\\d\\.\\: ]', x), dtime_str))"
   ]
  },
  {
   "cell_type": "code",
   "execution_count": 22,
   "metadata": {},
   "outputs": [],
   "source": [
    "df.submitted_date = pd.to_datetime(\n",
    "    df['submitted_date'].apply(parse_dtime)\n",
    ")"
   ]
  },
  {
   "cell_type": "markdown",
   "metadata": {},
   "source": [
    "### Convert tags to lowercase"
   ]
  },
  {
   "cell_type": "code",
   "execution_count": 23,
   "metadata": {},
   "outputs": [],
   "source": [
    "def create_list_column(tags):\n",
    "    return [\n",
    "        item.lower() for item in tags if item.lower() != 'автор неизвестен'\n",
    "    ]"
   ]
  },
  {
   "cell_type": "code",
   "execution_count": 24,
   "metadata": {},
   "outputs": [],
   "source": [
    "df.tags = df.tags.apply(create_list_column)"
   ]
  },
  {
   "cell_type": "markdown",
   "metadata": {},
   "source": [
    "### Save raw data"
   ]
  },
  {
   "cell_type": "code",
   "execution_count": 25,
   "metadata": {},
   "outputs": [],
   "source": [
    "with open(os.path.join(ci_path, 'raw_ci.pickle'), 'wb') as f:\n",
    "    pickle.dump(df, f)"
   ]
  },
  {
   "cell_type": "markdown",
   "metadata": {},
   "source": [
    "## Prepare data for Sarcasm/Irony Detection task\n",
    "### Delete extra brackets"
   ]
  },
  {
   "cell_type": "code",
   "execution_count": 26,
   "metadata": {},
   "outputs": [],
   "source": [
    "def del_square_brackets(text):\n",
    "    '''Delete [ ... ] and [ ... ]:'''\n",
    "    return re.sub(r'\\[[^\\]^\\[]+\\]\\:?\\s*', '', text)"
   ]
  },
  {
   "cell_type": "code",
   "execution_count": 27,
   "metadata": {},
   "outputs": [],
   "source": [
    "def del_round_brackets(text):\n",
    "    '''Delete ( ... ) at the end of the line'''\n",
    "    return re.sub(r'[\\.\\!\\?]+\\s*(\\([^\\)^\\(]+\\)\\.*\\s*)+$', '.', text)"
   ]
  },
  {
   "cell_type": "code",
   "execution_count": 28,
   "metadata": {},
   "outputs": [],
   "source": [
    "df['text'] = df['text'].apply(del_square_brackets)"
   ]
  },
  {
   "cell_type": "code",
   "execution_count": 29,
   "metadata": {},
   "outputs": [],
   "source": [
    "df['text'] = df['text'].apply(del_round_brackets)"
   ]
  },
  {
   "cell_type": "markdown",
   "metadata": {},
   "source": [
    "### Mark all dialogs"
   ]
  },
  {
   "cell_type": "code",
   "execution_count": 30,
   "metadata": {},
   "outputs": [],
   "source": [
    "def is_dialog(text):\n",
    "    if (\n",
    "        (len(re.findall(r'—', text)) >= 2 and re.match(r'—', text))\n",
    "        or \n",
    "        (len(re.findall(r'–', text)) >= 2 and re.match(r'–', text))\n",
    "        or \n",
    "        (len(re.findall(r'−', text)) >= 2 and re.match(r'−', text))\n",
    "        or \n",
    "        (len(re.findall(r'-', text)) >= 2 and re.match(r'-', text))\n",
    "    ):\n",
    "        return 1\n",
    "    else:\n",
    "        return 0"
   ]
  },
  {
   "cell_type": "code",
   "execution_count": 31,
   "metadata": {},
   "outputs": [],
   "source": [
    "df['is_dialog'] = df['text'].apply(is_dialog)"
   ]
  },
  {
   "cell_type": "markdown",
   "metadata": {},
   "source": [
    "### Check for list data"
   ]
  },
  {
   "cell_type": "code",
   "execution_count": 32,
   "metadata": {},
   "outputs": [
    {
     "name": "stdout",
     "output_type": "stream",
     "text": [
      "tags\n",
      "author\n",
      "performer\n",
      "character\n"
     ]
    }
   ],
   "source": [
    "for column in df.columns:\n",
    "    if list in set([type(i) for i in df[column]]):\n",
    "        print(column)"
   ]
  },
  {
   "cell_type": "markdown",
   "metadata": {},
   "source": [
    "### Normalize columns"
   ]
  },
  {
   "cell_type": "code",
   "execution_count": 33,
   "metadata": {},
   "outputs": [],
   "source": [
    "def normalize_column(tag):\n",
    "    if type(tag) == list:\n",
    "        return list(set(\n",
    "            [' '.join(item.split()) for item in tag]\n",
    "        ))\n",
    "    elif type(tag) == str:\n",
    "        return [tag, ]\n",
    "    else:\n",
    "        return []"
   ]
  },
  {
   "cell_type": "code",
   "execution_count": 34,
   "metadata": {},
   "outputs": [],
   "source": [
    "df['tags'] = df['tags'].apply(normalize_column)"
   ]
  },
  {
   "cell_type": "code",
   "execution_count": 35,
   "metadata": {},
   "outputs": [],
   "source": [
    "df['author'] = df['author'].apply(normalize_column)"
   ]
  },
  {
   "cell_type": "code",
   "execution_count": 36,
   "metadata": {},
   "outputs": [],
   "source": [
    "df['performer'] = df['performer'].apply(normalize_column)"
   ]
  },
  {
   "cell_type": "code",
   "execution_count": 37,
   "metadata": {},
   "outputs": [],
   "source": [
    "df['character'] = df['character'].apply(normalize_column)"
   ]
  },
  {
   "cell_type": "markdown",
   "metadata": {},
   "source": [
    "### Resolve ambiguity for character"
   ]
  },
  {
   "cell_type": "code",
   "execution_count": 38,
   "metadata": {},
   "outputs": [],
   "source": [
    "def is_character_in_text(text, characters):\n",
    "    text = text.lower()\n",
    "    for character in [char.lower() for char in characters]:\n",
    "        if character in text:\n",
    "            return True\n",
    "    return False"
   ]
  },
  {
   "cell_type": "code",
   "execution_count": 39,
   "metadata": {},
   "outputs": [],
   "source": [
    "for ind, row in df.iterrows():\n",
    "    if len(row.character) > 1:\n",
    "         if is_character_in_text(row.text, row.character):\n",
    "                df.at[ind, 'is_dialog'] = 1"
   ]
  },
  {
   "cell_type": "markdown",
   "metadata": {},
   "source": [
    "### Get data with specific tages"
   ]
  },
  {
   "cell_type": "code",
   "execution_count": 40,
   "metadata": {},
   "outputs": [],
   "source": [
    "def get_tags_by_topic(tag, topic_list):\n",
    "    return True if set(tag).intersection(topic_list) else False"
   ]
  },
  {
   "cell_type": "code",
   "execution_count": 41,
   "metadata": {},
   "outputs": [],
   "source": [
    "labels = [\n",
    "    'ирония', 'ироничные цитаты', 'самоирония', \n",
    "    'сарказм', 'саркастичные цитаты',\n",
    "    # Addition tags \n",
    "    'насмешки', 'издевательство', 'сатира', \n",
    "    'остроумие', 'черный юмор',\n",
    "]"
   ]
  },
  {
   "cell_type": "code",
   "execution_count": 42,
   "metadata": {},
   "outputs": [],
   "source": [
    "df['target'] = df['tags'].apply(\n",
    "    lambda x: get_tags_by_topic(x, labels)\n",
    ")"
   ]
  },
  {
   "cell_type": "code",
   "execution_count": 43,
   "metadata": {},
   "outputs": [],
   "source": [
    "df.target = df.target.fillna(0)\n",
    "df.target = pd.to_numeric(df.target, errors='coerce').astype(int)"
   ]
  },
  {
   "cell_type": "code",
   "execution_count": 44,
   "metadata": {},
   "outputs": [
    {
     "data": {
      "text/plain": [
       "(29982, 24)"
      ]
     },
     "execution_count": 44,
     "metadata": {},
     "output_type": "execute_result"
    }
   ],
   "source": [
    "df[df.target == 1].shape"
   ]
  },
  {
   "cell_type": "markdown",
   "metadata": {},
   "source": [
    "### Delete extra columns"
   ]
  },
  {
   "cell_type": "code",
   "execution_count": 45,
   "metadata": {},
   "outputs": [],
   "source": [
    "df['author'] = df.apply(\n",
    "    lambda x: x.author if x.author else x.performer, \n",
    "    axis=1\n",
    ")"
   ]
  },
  {
   "cell_type": "code",
   "execution_count": 46,
   "metadata": {},
   "outputs": [],
   "source": [
    "df.drop(['performer', ], axis=1, inplace=True);"
   ]
  },
  {
   "cell_type": "code",
   "execution_count": 47,
   "metadata": {},
   "outputs": [],
   "source": [
    "def get_source(row):\n",
    "    if row.anime:\n",
    "        return row.anime\n",
    "    elif row.book:\n",
    "        return row.book\n",
    "    elif row.cartoon:\n",
    "        return row.cartoon\n",
    "    elif row.comic:\n",
    "        return row.comic\n",
    "    elif row.game:\n",
    "        return row.game\n",
    "    elif row.movie:\n",
    "        return row.movie\n",
    "    elif row.play:\n",
    "        return row.play\n",
    "    elif row.samizdat:\n",
    "        return row.samizdat\n",
    "    elif row.serial:\n",
    "        return row.serial\n",
    "    elif row.song:\n",
    "        return row.song\n",
    "    elif row.tv:\n",
    "        return row.tv\n",
    "    else:\n",
    "        return None"
   ]
  },
  {
   "cell_type": "code",
   "execution_count": 48,
   "metadata": {},
   "outputs": [],
   "source": [
    "df['source'] = df.apply(lambda x: get_source(x), axis=1)"
   ]
  },
  {
   "cell_type": "code",
   "execution_count": 49,
   "metadata": {},
   "outputs": [],
   "source": [
    "df.drop(\n",
    "    [\n",
    "        'song', 'samizdat', 'anime', 'game', \n",
    "        'book', 'comic', 'cartoon', 'serial', \n",
    "        'play', 'tv', 'movie'\n",
    "    ], \n",
    "    axis=1, \n",
    "    inplace=True\n",
    ");"
   ]
  },
  {
   "cell_type": "markdown",
   "metadata": {},
   "source": [
    "### Delete extra symbols from columns (author, character, source)"
   ]
  },
  {
   "cell_type": "code",
   "execution_count": 50,
   "metadata": {},
   "outputs": [],
   "source": [
    "def del_extra_symbols(text):\n",
    "    '''Delete ( ... ) at the end of the line'''\n",
    "    if text:\n",
    "        return re.sub(r'\\s*\\([^\\)^\\(]+\\)*\\s*$', '', text)"
   ]
  },
  {
   "cell_type": "code",
   "execution_count": 51,
   "metadata": {},
   "outputs": [],
   "source": [
    "df['source'] = df['source'].apply(del_extra_symbols)"
   ]
  },
  {
   "cell_type": "code",
   "execution_count": 52,
   "metadata": {},
   "outputs": [],
   "source": [
    "for ind, row in df.iterrows():\n",
    "    df.at[ind, 'author'] = [del_extra_symbols(author) for author in row.author]"
   ]
  },
  {
   "cell_type": "code",
   "execution_count": 53,
   "metadata": {},
   "outputs": [],
   "source": [
    "for ind, row in df.iterrows():\n",
    "    df.at[ind, 'character'] = [del_extra_symbols(character) for character in row.character]"
   ]
  },
  {
   "cell_type": "code",
   "execution_count": 54,
   "metadata": {},
   "outputs": [],
   "source": [
    "df = df.rename(columns={\"text\": \"quote\"})"
   ]
  },
  {
   "cell_type": "markdown",
   "metadata": {},
   "source": [
    "## Save data"
   ]
  },
  {
   "cell_type": "code",
   "execution_count": 55,
   "metadata": {},
   "outputs": [],
   "source": [
    "with open(os.path.join(ci_path, 'ci.pickle'), 'wb') as f:\n",
    "    pickle.dump(df, f)"
   ]
  }
 ],
 "metadata": {
  "kernelspec": {
   "display_name": "Python 3",
   "language": "python",
   "name": "python3"
  },
  "language_info": {
   "codemirror_mode": {
    "name": "ipython",
    "version": 3
   },
   "file_extension": ".py",
   "mimetype": "text/x-python",
   "name": "python",
   "nbconvert_exporter": "python",
   "pygments_lexer": "ipython3",
   "version": "3.8.3"
  }
 },
 "nbformat": 4,
 "nbformat_minor": 4
}
