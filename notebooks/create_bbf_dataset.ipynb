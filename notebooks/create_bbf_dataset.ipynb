{
 "cells": [
  {
   "cell_type": "markdown",
   "metadata": {},
   "source": [
    "# Create dataset for collected data"
   ]
  },
  {
   "cell_type": "code",
   "execution_count": 1,
   "metadata": {},
   "outputs": [],
   "source": [
    "import json\n",
    "import os\n",
    "import pickle\n",
    "import re\n",
    "\n",
    "import pandas as pd"
   ]
  },
  {
   "cell_type": "code",
   "execution_count": 2,
   "metadata": {},
   "outputs": [],
   "source": [
    "bbf_path = '../results/bbf'"
   ]
  },
  {
   "cell_type": "markdown",
   "metadata": {},
   "source": [
    "### Read quotes to list"
   ]
  },
  {
   "cell_type": "code",
   "execution_count": 3,
   "metadata": {},
   "outputs": [],
   "source": [
    "quotes = []\n",
    "\n",
    "for file in os.listdir(bbf_path):\n",
    "    if file.endswith(\".txt\"):\n",
    "        with open(os.path.join(bbf_path, file)) as f:\n",
    "            lines = f.readlines()\n",
    "            for line in lines:\n",
    "                quote = json.loads(line)\n",
    "                quotes.append(quote)"
   ]
  },
  {
   "cell_type": "markdown",
   "metadata": {},
   "source": [
    "### Create dataset"
   ]
  },
  {
   "cell_type": "code",
   "execution_count": 4,
   "metadata": {},
   "outputs": [],
   "source": [
    "df = pd.DataFrame(quotes)"
   ]
  },
  {
   "cell_type": "code",
   "execution_count": 5,
   "metadata": {},
   "outputs": [
    {
     "data": {
      "text/plain": [
       "(303411, 5)"
      ]
     },
     "execution_count": 5,
     "metadata": {},
     "output_type": "execute_result"
    }
   ],
   "source": [
    "df.shape"
   ]
  },
  {
   "cell_type": "code",
   "execution_count": 6,
   "metadata": {},
   "outputs": [
    {
     "data": {
      "text/html": [
       "<div>\n",
       "<style scoped>\n",
       "    .dataframe tbody tr th:only-of-type {\n",
       "        vertical-align: middle;\n",
       "    }\n",
       "\n",
       "    .dataframe tbody tr th {\n",
       "        vertical-align: top;\n",
       "    }\n",
       "\n",
       "    .dataframe thead th {\n",
       "        text-align: right;\n",
       "    }\n",
       "</style>\n",
       "<table border=\"1\" class=\"dataframe\">\n",
       "  <thead>\n",
       "    <tr style=\"text-align: right;\">\n",
       "      <th></th>\n",
       "      <th>quote</th>\n",
       "      <th>author</th>\n",
       "      <th>source</th>\n",
       "      <th>character</th>\n",
       "      <th>tag</th>\n",
       "    </tr>\n",
       "  </thead>\n",
       "  <tbody>\n",
       "    <tr>\n",
       "      <th>0</th>\n",
       "      <td>«Я люблю тебя», — как часто эти слова срываютс...</td>\n",
       "      <td>В. А. Редер</td>\n",
       "      <td>Пещера Лейхтвейса</td>\n",
       "      <td>Аделина Барберини</td>\n",
       "      <td>[Брак  ,   Любовь  ,   Молодость ,  Самообман]</td>\n",
       "    </tr>\n",
       "    <tr>\n",
       "      <th>1</th>\n",
       "      <td>За окошком камеры моей Клен стоит, едва скриви...</td>\n",
       "      <td>[В. А. Кондратьев, З. Н. Политов]</td>\n",
       "      <td>Говорят погибшие герои</td>\n",
       "      <td>Денисенко</td>\n",
       "      <td>Война</td>\n",
       "    </tr>\n",
       "    <tr>\n",
       "      <th>2</th>\n",
       "      <td>Нас было 21. Стояли насмерть. Погибаем, но не ...</td>\n",
       "      <td>[В. А. Кондратьев, З. Н. Политов]</td>\n",
       "      <td>Говорят погибшие герои</td>\n",
       "      <td>Нестеренко</td>\n",
       "      <td>Война</td>\n",
       "    </tr>\n",
       "    <tr>\n",
       "      <th>3</th>\n",
       "      <td>Прощайте все, кто был дорог мне, а море, Черно...</td>\n",
       "      <td>[В. А. Кондратьев, З. Н. Политов]</td>\n",
       "      <td>Говорят погибшие герои</td>\n",
       "      <td>моряк</td>\n",
       "      <td>Война</td>\n",
       "    </tr>\n",
       "    <tr>\n",
       "      <th>4</th>\n",
       "      <td>Когда я в атаке в дыму и в огне Иду по колено ...</td>\n",
       "      <td>[В. А. Кондратьев, З. Н. Политов]</td>\n",
       "      <td>Говорят погибшие герои</td>\n",
       "      <td>Усов</td>\n",
       "      <td>[Война, Любовь]</td>\n",
       "    </tr>\n",
       "  </tbody>\n",
       "</table>\n",
       "</div>"
      ],
      "text/plain": [
       "                                               quote  \\\n",
       "0  «Я люблю тебя», — как часто эти слова срываютс...   \n",
       "1  За окошком камеры моей Клен стоит, едва скриви...   \n",
       "2  Нас было 21. Стояли насмерть. Погибаем, но не ...   \n",
       "3  Прощайте все, кто был дорог мне, а море, Черно...   \n",
       "4  Когда я в атаке в дыму и в огне Иду по колено ...   \n",
       "\n",
       "                              author                  source  \\\n",
       "0                        В. А. Редер       Пещера Лейхтвейса   \n",
       "1  [В. А. Кондратьев, З. Н. Политов]  Говорят погибшие герои   \n",
       "2  [В. А. Кондратьев, З. Н. Политов]  Говорят погибшие герои   \n",
       "3  [В. А. Кондратьев, З. Н. Политов]  Говорят погибшие герои   \n",
       "4  [В. А. Кондратьев, З. Н. Политов]  Говорят погибшие герои   \n",
       "\n",
       "           character                                             tag  \n",
       "0  Аделина Барберини  [Брак  ,   Любовь  ,   Молодость ,  Самообман]  \n",
       "1          Денисенко                                           Война  \n",
       "2         Нестеренко                                           Война  \n",
       "3              моряк                                           Война  \n",
       "4               Усов                                 [Война, Любовь]  "
      ]
     },
     "execution_count": 6,
     "metadata": {},
     "output_type": "execute_result"
    }
   ],
   "source": [
    "df.head()"
   ]
  },
  {
   "cell_type": "markdown",
   "metadata": {},
   "source": [
    "### Normalize columns"
   ]
  },
  {
   "cell_type": "code",
   "execution_count": 7,
   "metadata": {},
   "outputs": [],
   "source": [
    "def normalize_column(tag):\n",
    "    if type(tag) == list:\n",
    "        return list(set(\n",
    "            [' '.join(item.split()) for item in tag]\n",
    "        ))\n",
    "    elif type(tag) == str:\n",
    "        return [tag, ]\n",
    "    else:\n",
    "        return []"
   ]
  },
  {
   "cell_type": "code",
   "execution_count": 8,
   "metadata": {},
   "outputs": [],
   "source": [
    "df['author'] = df['author'].apply(normalize_column)"
   ]
  },
  {
   "cell_type": "code",
   "execution_count": 9,
   "metadata": {},
   "outputs": [],
   "source": [
    "df['character'] = df['character'].apply(normalize_column)"
   ]
  },
  {
   "cell_type": "code",
   "execution_count": 10,
   "metadata": {},
   "outputs": [],
   "source": [
    "df['tag'] = df['tag'].apply(normalize_column)"
   ]
  },
  {
   "cell_type": "markdown",
   "metadata": {},
   "source": [
    "### Convert tags to lowercase"
   ]
  },
  {
   "cell_type": "code",
   "execution_count": 11,
   "metadata": {},
   "outputs": [],
   "source": [
    "def create_list_column(tag):\n",
    "    if type(tag) == list:\n",
    "        return [item.lower() for item in tag]\n",
    "    elif type(tag) == str:\n",
    "        return [tag.lower(), ]\n",
    "    else:\n",
    "        return list()"
   ]
  },
  {
   "cell_type": "code",
   "execution_count": 12,
   "metadata": {},
   "outputs": [],
   "source": [
    "df.tag = df.tag.apply(create_list_column)"
   ]
  },
  {
   "cell_type": "code",
   "execution_count": 13,
   "metadata": {},
   "outputs": [],
   "source": [
    "df = df.rename(columns={\"tag\": \"tags\"})"
   ]
  },
  {
   "cell_type": "markdown",
   "metadata": {},
   "source": [
    "### Save raw data"
   ]
  },
  {
   "cell_type": "code",
   "execution_count": 14,
   "metadata": {},
   "outputs": [],
   "source": [
    "with open(os.path.join(bbf_path, 'raw_bbf.pickle'), 'wb') as f:\n",
    "    pickle.dump(df, f)"
   ]
  },
  {
   "cell_type": "markdown",
   "metadata": {},
   "source": [
    "## Prepare data for Sarcasm/Irony Detection task\n",
    "\n",
    "### Mark all dialogs"
   ]
  },
  {
   "cell_type": "code",
   "execution_count": 15,
   "metadata": {},
   "outputs": [],
   "source": [
    "def is_dialog(text):\n",
    "    if (\n",
    "        (len(re.findall(r'—', text)) >= 2 and re.match(r'—', text))\n",
    "        or \n",
    "        (len(re.findall(r'–', text)) >= 2 and re.match(r'–', text))\n",
    "        or \n",
    "        (len(re.findall(r'−', text)) >= 2 and re.match(r'−', text))\n",
    "        or \n",
    "        (len(re.findall(r'-', text)) >= 2 and re.match(r'-', text))\n",
    "    ):\n",
    "        return 1\n",
    "    else:\n",
    "        return 0"
   ]
  },
  {
   "cell_type": "code",
   "execution_count": 16,
   "metadata": {},
   "outputs": [],
   "source": [
    "def is_character_in_text(text, characters):\n",
    "    text = text.lower()\n",
    "    for character in [char.lower() for char in characters]:\n",
    "        try:\n",
    "            if re.findall(character, text):\n",
    "                return True\n",
    "        except:\n",
    "            ...\n",
    "    return False"
   ]
  },
  {
   "cell_type": "code",
   "execution_count": 17,
   "metadata": {},
   "outputs": [],
   "source": [
    "df['is_dialog'] = df['quote'].apply(is_dialog)"
   ]
  },
  {
   "cell_type": "code",
   "execution_count": 18,
   "metadata": {},
   "outputs": [],
   "source": [
    "for ind, row in df.iterrows():\n",
    "    if len(row.character) > 1:\n",
    "         if is_character_in_text(row.quote, row.character):\n",
    "                df.at[ind, 'is_dialog'] = 1"
   ]
  },
  {
   "cell_type": "markdown",
   "metadata": {},
   "source": [
    "### Get specific labeles"
   ]
  },
  {
   "cell_type": "code",
   "execution_count": 19,
   "metadata": {},
   "outputs": [],
   "source": [
    "def get_tags_by_topic(tag, topic_list):\n",
    "    return True if set(tag).intersection(topic_list) else False"
   ]
  },
  {
   "cell_type": "code",
   "execution_count": 20,
   "metadata": {},
   "outputs": [],
   "source": [
    "labels = [\n",
    "    'ирония', 'ироничные', 'самоирония', \n",
    "    'сарказм', 'саркастичные',\n",
    "    # addition tags \n",
    "    'насмешки', 'издевательство', 'сатира', \n",
    "    'остроумие', 'черный юмор',\n",
    "]"
   ]
  },
  {
   "cell_type": "code",
   "execution_count": 21,
   "metadata": {},
   "outputs": [],
   "source": [
    "df['target'] = df['tags'].apply(\n",
    "    lambda x: get_tags_by_topic(x, labels)\n",
    ")"
   ]
  },
  {
   "cell_type": "code",
   "execution_count": 22,
   "metadata": {},
   "outputs": [],
   "source": [
    "df.target = df.target.fillna(0)\n",
    "df.target = pd.to_numeric(df.target, errors='coerce').astype(int)"
   ]
  },
  {
   "cell_type": "code",
   "execution_count": 23,
   "metadata": {},
   "outputs": [
    {
     "data": {
      "text/plain": [
       "(21576, 7)"
      ]
     },
     "execution_count": 23,
     "metadata": {},
     "output_type": "execute_result"
    }
   ],
   "source": [
    "df[df.target == True].shape"
   ]
  },
  {
   "cell_type": "markdown",
   "metadata": {},
   "source": [
    "## Save data"
   ]
  },
  {
   "cell_type": "code",
   "execution_count": 24,
   "metadata": {},
   "outputs": [],
   "source": [
    "with open(os.path.join(bbf_path, 'bbf.pickle'), 'wb') as f:\n",
    "    pickle.dump(df, f)"
   ]
  }
 ],
 "metadata": {
  "kernelspec": {
   "display_name": "Python 3",
   "language": "python",
   "name": "python3"
  },
  "language_info": {
   "codemirror_mode": {
    "name": "ipython",
    "version": 3
   },
   "file_extension": ".py",
   "mimetype": "text/x-python",
   "name": "python",
   "nbconvert_exporter": "python",
   "pygments_lexer": "ipython3",
   "version": "3.8.3"
  }
 },
 "nbformat": 4,
 "nbformat_minor": 4
}
